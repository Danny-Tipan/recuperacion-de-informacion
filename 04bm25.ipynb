{
  "cells": [
    {
      "metadata": {
        "id": "941741204a003f44"
      },
      "cell_type": "markdown",
      "source": [
        "# Ejercicio 4: Modelo Probabilístico\n",
        "\n",
        "## Objetivo de la práctica\n",
        "- Comprender los componentes del modelo vectorial mediante cálculos manuales y observación directa.\n",
        "- Aplicar el modelo de espacio vectorial con TF-IDF para recuperar documentos relevantes.\n",
        "- Comparar la recuperación con BM25 frente a TF-IDF.\n",
        "- Analizar visualmente las diferencias entre los modelos.\n",
        "- Evaluar si los rankings generados son consistentes con lo que considerarías documentos relevantes."
      ],
      "id": "941741204a003f44"
    },
    {
      "metadata": {
        "id": "93bafe7a6a4ef9e5"
      },
      "cell_type": "markdown",
      "source": [
        "## Parte 0: Carga del Corpus"
      ],
      "id": "93bafe7a6a4ef9e5"
    },
    {
      "metadata": {
        "ExecuteTime": {
          "end_time": "2025-05-21T14:16:07.323562Z",
          "start_time": "2025-05-21T14:16:05.364309Z"
        },
        "id": "ad08bb8bd43ae327"
      },
      "cell_type": "code",
      "source": [
        "from sklearn.datasets import fetch_20newsgroups\n",
        "\n",
        "newsgroups = fetch_20newsgroups(subset='all', remove=('headers', 'footers', 'quotes'))\n",
        "newsgroupsdocs = newsgroups.data"
      ],
      "id": "ad08bb8bd43ae327",
      "outputs": [],
      "execution_count": 24
    },
    {
      "cell_type": "code",
      "source": [
        "num_documents = len(newsgroupsdocs)\n",
        "print(f\"El dataset newsgroupsdocs tiene {num_documents} documentos (términos).\")"
      ],
      "metadata": {
        "colab": {
          "base_uri": "https://localhost:8080/"
        },
        "id": "5mvR096_t_ma",
        "outputId": "80e6e78c-f484-417b-ec66-421a60d3680e"
      },
      "id": "5mvR096_t_ma",
      "execution_count": null,
      "outputs": [
        {
          "output_type": "stream",
          "name": "stdout",
          "text": [
            "El dataset newsgroupsdocs tiene 18846 documentos (términos).\n"
          ]
        }
      ]
    },
    {
      "cell_type": "code",
      "source": [
        "import sys\n",
        "sys.getsizeof(newsgroupsdocs)"
      ],
      "metadata": {
        "colab": {
          "base_uri": "https://localhost:8080/"
        },
        "id": "M7s78ZOfycdg",
        "outputId": "64bfa26c-a3bf-40cc-d295-be0ab3f7e626"
      },
      "id": "M7s78ZOfycdg",
      "execution_count": null,
      "outputs": [
        {
          "output_type": "execute_result",
          "data": {
            "text/plain": [
              "150824"
            ]
          },
          "metadata": {},
          "execution_count": 3
        }
      ]
    },
    {
      "metadata": {
        "id": "10f8c7f78934f497"
      },
      "cell_type": "markdown",
      "source": [
        "## Parte 1: Cálculo de TF, DF, IDF y TF-IDF\n",
        "\n",
        "### Actividad\n",
        "1. Utiliza el corpus cargado.\n",
        "2. Construye la matriz de términos (TF), y calcula la frecuencia de documentos (DF)\n",
        "3. Calcula TF-IDF utilizando sklearn.\n",
        "4. Visualiza los valores en un DataFrame para analizar las diferencias entre los términos."
      ],
      "id": "10f8c7f78934f497"
    },
    {
      "cell_type": "code",
      "source": [
        "from sklearn.feature_extraction.text import CountVectorizer\n",
        "import pandas as pd\n",
        "\n",
        "# Construcción de la matriz de términos (TF)\n",
        "vectorizador_tf = CountVectorizer()\n",
        "matriz_tf = vectorizador_tf.fit_transform(newsgroupsdocs)\n",
        "\n",
        "# Obtener el vocabulario\n",
        "vocabulario = vectorizador_tf.get_feature_names_out()\n",
        "\n",
        "# Convertir la matriz a DataFrame\n",
        "tf_df = pd.DataFrame(matriz_tf.toarray(), columns=vocabulario)\n",
        "\n",
        "# Mostrar las primeras filas\n",
        "print(\"Matriz de términos (TF):\")\n",
        "print(tf_df)\n"
      ],
      "metadata": {
        "colab": {
          "base_uri": "https://localhost:8080/"
        },
        "id": "UUyOasuumAmV",
        "outputId": "0b0155fa-d5bf-458b-eddf-b7aacc7eeabc"
      },
      "id": "UUyOasuumAmV",
      "execution_count": 2,
      "outputs": [
        {
          "output_type": "stream",
          "name": "stdout",
          "text": [
            "Matriz de términos (TF):\n",
            "       00  000  0000  00000  000000  00000000  0000000004  00000000b  \\\n",
            "0       0    0     0      0       0         0           0          0   \n",
            "1       0    0     0      0       0         0           0          0   \n",
            "2       0    0     0      0       0         0           0          0   \n",
            "3       0    0     0      0       0         0           0          0   \n",
            "4       0    0     0      0       0         0           0          0   \n",
            "...    ..  ...   ...    ...     ...       ...         ...        ...   \n",
            "18841   0    0     0      0       0         0           0          0   \n",
            "18842   0    0     0      0       0         0           0          0   \n",
            "18843   0    0     0      0       0         0           0          0   \n",
            "18844   0    0     0      0       0         0           0          0   \n",
            "18845   0    0     0      0       0         0           0          0   \n",
            "\n",
            "       00000001  00000001b  ...  zzs  zzvsi  zzy_3w  zzz  zzzoh  zzzzzz  \\\n",
            "0             0          0  ...    0      0       0    0      0       0   \n",
            "1             0          0  ...    0      0       0    0      0       0   \n",
            "2             0          0  ...    0      0       0    0      0       0   \n",
            "3             0          0  ...    0      0       0    0      0       0   \n",
            "4             0          0  ...    0      0       0    0      0       0   \n",
            "...         ...        ...  ...  ...    ...     ...  ...    ...     ...   \n",
            "18841         0          0  ...    0      0       0    0      0       0   \n",
            "18842         0          0  ...    0      0       0    0      0       0   \n",
            "18843         0          0  ...    0      0       0    0      0       0   \n",
            "18844         0          0  ...    0      0       0    0      0       0   \n",
            "18845         0          0  ...    0      0       0    0      0       0   \n",
            "\n",
            "       zzzzzzt  ³ation  ýé  ÿhooked  \n",
            "0            0       0   0        0  \n",
            "1            0       0   0        0  \n",
            "2            0       0   0        0  \n",
            "3            0       0   0        0  \n",
            "4            0       0   0        0  \n",
            "...        ...     ...  ..      ...  \n",
            "18841        0       0   0        0  \n",
            "18842        0       0   0        0  \n",
            "18843        0       0   0        0  \n",
            "18844        0       0   0        0  \n",
            "18845        0       0   0        0  \n",
            "\n",
            "[18846 rows x 134410 columns]\n"
          ]
        }
      ]
    },
    {
      "cell_type": "code",
      "source": [
        "import numpy as np\n",
        "\n",
        "# Calcular DF: número de documentos en los que aparece cada término\n",
        "frecuencia_documentos = np.sum(matriz_tf.toarray() > 0, axis=0)\n",
        "\n",
        "# Convertir a Series de Pandas para visualización\n",
        "df_series = pd.Series(frecuencia_documentos, index=vocabulario)\n",
        "\n",
        "# Mostrar las palabras más comunes según DF\n",
        "print(\"Frecuencia de documentos (DF) - Top 10:\")\n",
        "print(df_series.sort_values(ascending=False).head(10))\n"
      ],
      "metadata": {
        "colab": {
          "base_uri": "https://localhost:8080/"
        },
        "id": "7vFJG10cmgAS",
        "outputId": "c027608d-13c9-4878-d547-8d13fb93045d"
      },
      "id": "7vFJG10cmgAS",
      "execution_count": 3,
      "outputs": [
        {
          "output_type": "stream",
          "name": "stdout",
          "text": [
            "Frecuencia de documentos (DF) - Top 10:\n",
            "the     15749\n",
            "to      14108\n",
            "and     12991\n",
            "of      12809\n",
            "in      11842\n",
            "is      11685\n",
            "it      11029\n",
            "that    10974\n",
            "for     10406\n",
            "have     8722\n",
            "dtype: int64\n"
          ]
        }
      ]
    },
    {
      "cell_type": "code",
      "source": [
        "from sklearn.feature_extraction.text import TfidfVectorizer\n",
        "\n",
        "# Construimos la matriz TF-IDF\n",
        "vectorizador_tfidf = TfidfVectorizer()\n",
        "matriz_tfidf = vectorizador_tfidf.fit_transform(newsgroupsdocs)\n",
        "\n",
        "# Convertimos a DataFrame\n",
        "vocabulario_tfidf = vectorizador_tfidf.get_feature_names_out()\n",
        "tfidf_df = pd.DataFrame(matriz_tfidf.toarray(), columns=vocabulario_tfidf)\n",
        "\n",
        "# Mostramos algunas filas y columnas\n",
        "print(\"Matriz TF-IDF (primeras 5 filas y 10 columnas):\")\n",
        "print(tfidf_df)\n"
      ],
      "metadata": {
        "colab": {
          "base_uri": "https://localhost:8080/"
        },
        "id": "4QA45bEojVM4",
        "outputId": "41b206f8-a3dc-46bc-d523-e85c6c4e0f61"
      },
      "id": "4QA45bEojVM4",
      "execution_count": 4,
      "outputs": [
        {
          "output_type": "stream",
          "name": "stdout",
          "text": [
            "Matriz TF-IDF (primeras 5 filas y 10 columnas):\n",
            "        00  000  0000  00000  000000  00000000  0000000004  00000000b  \\\n",
            "0      0.0  0.0   0.0    0.0     0.0       0.0         0.0        0.0   \n",
            "1      0.0  0.0   0.0    0.0     0.0       0.0         0.0        0.0   \n",
            "2      0.0  0.0   0.0    0.0     0.0       0.0         0.0        0.0   \n",
            "3      0.0  0.0   0.0    0.0     0.0       0.0         0.0        0.0   \n",
            "4      0.0  0.0   0.0    0.0     0.0       0.0         0.0        0.0   \n",
            "...    ...  ...   ...    ...     ...       ...         ...        ...   \n",
            "18841  0.0  0.0   0.0    0.0     0.0       0.0         0.0        0.0   \n",
            "18842  0.0  0.0   0.0    0.0     0.0       0.0         0.0        0.0   \n",
            "18843  0.0  0.0   0.0    0.0     0.0       0.0         0.0        0.0   \n",
            "18844  0.0  0.0   0.0    0.0     0.0       0.0         0.0        0.0   \n",
            "18845  0.0  0.0   0.0    0.0     0.0       0.0         0.0        0.0   \n",
            "\n",
            "       00000001  00000001b  ...  zzs  zzvsi  zzy_3w  zzz  zzzoh  zzzzzz  \\\n",
            "0           0.0        0.0  ...  0.0    0.0     0.0  0.0    0.0     0.0   \n",
            "1           0.0        0.0  ...  0.0    0.0     0.0  0.0    0.0     0.0   \n",
            "2           0.0        0.0  ...  0.0    0.0     0.0  0.0    0.0     0.0   \n",
            "3           0.0        0.0  ...  0.0    0.0     0.0  0.0    0.0     0.0   \n",
            "4           0.0        0.0  ...  0.0    0.0     0.0  0.0    0.0     0.0   \n",
            "...         ...        ...  ...  ...    ...     ...  ...    ...     ...   \n",
            "18841       0.0        0.0  ...  0.0    0.0     0.0  0.0    0.0     0.0   \n",
            "18842       0.0        0.0  ...  0.0    0.0     0.0  0.0    0.0     0.0   \n",
            "18843       0.0        0.0  ...  0.0    0.0     0.0  0.0    0.0     0.0   \n",
            "18844       0.0        0.0  ...  0.0    0.0     0.0  0.0    0.0     0.0   \n",
            "18845       0.0        0.0  ...  0.0    0.0     0.0  0.0    0.0     0.0   \n",
            "\n",
            "       zzzzzzt  ³ation   ýé  ÿhooked  \n",
            "0          0.0     0.0  0.0      0.0  \n",
            "1          0.0     0.0  0.0      0.0  \n",
            "2          0.0     0.0  0.0      0.0  \n",
            "3          0.0     0.0  0.0      0.0  \n",
            "4          0.0     0.0  0.0      0.0  \n",
            "...        ...     ...  ...      ...  \n",
            "18841      0.0     0.0  0.0      0.0  \n",
            "18842      0.0     0.0  0.0      0.0  \n",
            "18843      0.0     0.0  0.0      0.0  \n",
            "18844      0.0     0.0  0.0      0.0  \n",
            "18845      0.0     0.0  0.0      0.0  \n",
            "\n",
            "[18846 rows x 134410 columns]\n"
          ]
        }
      ]
    },
    {
      "metadata": {
        "id": "64491bce5361e8b3"
      },
      "cell_type": "markdown",
      "source": [
        "## Parte 2: Ranking de documentos usando TF-IDF\n",
        "\n",
        "### Actividad\n",
        "\n",
        "1. Dada una consulta, construye el vector de consulta\n",
        "2. Calcula la similitud coseno entre la consulta y cada documento usando los vectores TF-IDF\n",
        "3. Genera un ranking de los documentos ordenados por relevancia.\n",
        "4. Muestra los resultados en una tabla."
      ],
      "id": "64491bce5361e8b3"
    },
    {
      "metadata": {
        "colab": {
          "base_uri": "https://localhost:8080/"
        },
        "id": "9d082c4a156b9554",
        "outputId": "7a76f691-f910-472c-cb21-9a6c1c5c6e21"
      },
      "cell_type": "code",
      "source": [
        "consulta = [\"chicken\"]\n",
        "\n",
        "# Usar el mismo vectorizador TF-IDF que fue entrenado previamente\n",
        "vector_consulta = vectorizador_tfidf.transform(consulta)\n",
        "print(\"Vector de consulta TF-IDF:\")\n",
        "print(vector_consulta)\n"
      ],
      "id": "9d082c4a156b9554",
      "outputs": [
        {
          "output_type": "stream",
          "name": "stdout",
          "text": [
            "Vector de consulta TF-IDF:\n",
            "<Compressed Sparse Row sparse matrix of dtype 'float64'\n",
            "\twith 1 stored elements and shape (1, 134410)>\n",
            "  Coords\tValues\n",
            "  (0, 36251)\t1.0\n"
          ]
        }
      ],
      "execution_count": 5
    },
    {
      "cell_type": "code",
      "source": [
        "from sklearn.metrics.pairwise import cosine_similarity\n",
        "# Calculamos la similitud coseno entre la consulta y todos los documentos\n",
        "similitudes = cosine_similarity(vector_consulta, matriz_tfidf).flatten()\n",
        "print(\"Similitudes coseno con los documentos:\")\n",
        "print(similitudes)\n",
        "len(similitudes)"
      ],
      "metadata": {
        "colab": {
          "base_uri": "https://localhost:8080/"
        },
        "id": "xlpwgvPNn-Vw",
        "outputId": "b3fead3c-98a4-47a1-9132-188fb03093d6"
      },
      "id": "xlpwgvPNn-Vw",
      "execution_count": 6,
      "outputs": [
        {
          "output_type": "stream",
          "name": "stdout",
          "text": [
            "Similitudes coseno con los documentos:\n",
            "[0. 0. 0. ... 0. 0. 0.]\n"
          ]
        },
        {
          "output_type": "execute_result",
          "data": {
            "text/plain": [
              "18846"
            ]
          },
          "metadata": {},
          "execution_count": 6
        }
      ]
    },
    {
      "cell_type": "code",
      "source": [
        "# Obtener los índices de los documentos ordenados por similitud descendente\n",
        "indices_ordenados = np.argsort(similitudes)[::-1]\n",
        "print(\"Índices de los documentos ordenados por similitud:\")\n",
        "print(indices_ordenados)\n",
        "len(indices_ordenados)\n"
      ],
      "metadata": {
        "id": "VsUsU4P4oywg",
        "colab": {
          "base_uri": "https://localhost:8080/"
        },
        "outputId": "a6d24b8d-046e-464d-e122-83d27c3da9eb"
      },
      "id": "VsUsU4P4oywg",
      "execution_count": 7,
      "outputs": [
        {
          "output_type": "stream",
          "name": "stdout",
          "text": [
            "Índices de los documentos ordenados por similitud:\n",
            "[ 1315 13222 15919 ... 12565 12566 12557]\n"
          ]
        },
        {
          "output_type": "execute_result",
          "data": {
            "text/plain": [
              "18846"
            ]
          },
          "metadata": {},
          "execution_count": 7
        }
      ]
    },
    {
      "cell_type": "code",
      "source": [
        "top_n = 20\n",
        "indices_top = indices_ordenados[:top_n]"
      ],
      "metadata": {
        "id": "DtvmfpYpHW2q"
      },
      "id": "DtvmfpYpHW2q",
      "execution_count": 8,
      "outputs": []
    },
    {
      "cell_type": "code",
      "source": [
        "# Crear el DataFrame con los resultados\n",
        "resultados_df = pd.DataFrame({\n",
        "    \"Índice del documento\": indices_top,\n",
        "    \"Similitud coseno\": similitudes[indices_top],\n",
        "    \"num_aparece_consulta_en_doc\": [matriz_tf[i].sum() for i in indices_top],\n",
        "    \"texto_documento\": [newsgroupsdocs[i] for i in indices_top]\n",
        "})\n",
        "\n",
        "# Obtener el texto del documento más similar (el primero en el DataFrame)\n",
        "texto_mas_similar = resultados_df.iloc[0][\"texto_documento\"]\n",
        "\n",
        "# Mostrar los resultados\n",
        "print(\"Texto del documento más similar:\")\n",
        "print(texto_mas_similar)\n",
        "print(\"\\nTop documentos relevantes para la consulta:\")\n",
        "print(resultados_df)\n"
      ],
      "metadata": {
        "id": "tQ-s29hmpB9z",
        "outputId": "9d7ff465-a1df-4df4-f029-e2946ba035a6",
        "colab": {
          "base_uri": "https://localhost:8080/"
        }
      },
      "id": "tQ-s29hmpB9z",
      "execution_count": 9,
      "outputs": [
        {
          "output_type": "stream",
          "name": "stdout",
          "text": [
            "Texto del documento más similar:\n",
            "\n",
            "But remember that had God extinguished the blasphemous trash of Europe (and\n",
            "Imperialism with it), the United States would not exist today to put an end\n",
            "to those \"games\"....begs the question, which came first, the chicken or the\n",
            "egg???\n",
            "\n",
            "Top documentos relevantes para la consulta:\n",
            "    Índice del documento  Similitud coseno  num_aparece_consulta_en_doc  \\\n",
            "0                   1315          0.269169                           40   \n",
            "1                  13222          0.213187                           74   \n",
            "2                  15919          0.193458                           61   \n",
            "3                   9048          0.176817                           69   \n",
            "4                    357          0.158946                           94   \n",
            "5                  16902          0.156495                          278   \n",
            "6                   5738          0.150360                          119   \n",
            "7                    897          0.148718                          351   \n",
            "8                  18061          0.086024                          565   \n",
            "9                  11732          0.085915                          692   \n",
            "10                  2549          0.077971                          276   \n",
            "11                  3360          0.072184                          323   \n",
            "12                  6615          0.071932                          393   \n",
            "13                 14177          0.069345                          410   \n",
            "14                 18338          0.055380                          526   \n",
            "15                  3175          0.036743                          732   \n",
            "16                 18132          0.010248                         2588   \n",
            "17                  9683          0.007288                        10703   \n",
            "18                  3372          0.004532                         5791   \n",
            "19                  6281          0.000000                           39   \n",
            "\n",
            "                                      texto_documento  \n",
            "0   \\nBut remember that had God extinguished the b...  \n",
            "1   You are right in supposing that the problem is...  \n",
            "2   \\nWetteland comes off the DL on April 23rd, an...  \n",
            "3   I am 35 and am recovering from a case of Chick...  \n",
            "4   i read about the code you can put in to most a...  \n",
            "5   \\n\\n[stuff deleted...]\\n\\n  \\nAs I recall, the...  \n",
            "6   \\n\\nPlease note that Bill Clinton probably has...  \n",
            "7   \\n\\nYou're reading far too much into this (asi...  \n",
            "8   This reminds me of the last Graham Kerr cookin...  \n",
            "9   These are MY last words on the subject\\n\\n\\n\\n...  \n",
            "10  \\n]Furthermore, in response to an earlier mess...  \n",
            "11  \\n\\nAwww, right, you want all the home mechani...  \n",
            "12  <\\n<>If the Clinton Clipper is so very good, [...  \n",
            "13  \\n\\n\\tSeAL Team six should have handled it?  D...  \n",
            "14  I've been thinking about the idea that was rai...  \n",
            "15  Hi,\\n\\nI've just returned from a visit with my...  \n",
            "16  Archive-name: ripem/faq\\nLast-update: 31 Mar 9...  \n",
            "17  Accounts of Anti-Armenian Human Right Violatio...  \n",
            "18  THE WHITE HOUSE\\n\\n                    Office ...  \n",
            "19  \\nWindows NT or WNT can also be derived by the...  \n"
          ]
        }
      ]
    },
    {
      "metadata": {
        "id": "97061325508dc5f2"
      },
      "cell_type": "markdown",
      "source": [
        "## Parte 3: Ranking con BM25\n",
        "\n",
        "### Actividad\n",
        "\n",
        "1. Implementa un sistema de recuperación usando el modelo BM25.\n",
        "2. Usa la misma consulta del ejercicio anterior.\n",
        "3. Calcula el score BM25 para cada documento y genera un ranking.\n",
        "4. Compara manualmente con el ranking de TF-IDF."
      ],
      "id": "97061325508dc5f2"
    },
    {
      "cell_type": "code",
      "source": [
        "!pip install rank_bm25"
      ],
      "metadata": {
        "colab": {
          "base_uri": "https://localhost:8080/"
        },
        "id": "F05fq2quR9vE",
        "outputId": "e0f3fbbb-7f4b-40ac-c5cb-f488146f2530"
      },
      "id": "F05fq2quR9vE",
      "execution_count": 10,
      "outputs": [
        {
          "output_type": "stream",
          "name": "stdout",
          "text": [
            "Collecting rank_bm25\n",
            "  Downloading rank_bm25-0.2.2-py3-none-any.whl.metadata (3.2 kB)\n",
            "Requirement already satisfied: numpy in /usr/local/lib/python3.11/dist-packages (from rank_bm25) (2.0.2)\n",
            "Downloading rank_bm25-0.2.2-py3-none-any.whl (8.6 kB)\n",
            "Installing collected packages: rank_bm25\n",
            "Successfully installed rank_bm25-0.2.2\n"
          ]
        }
      ]
    },
    {
      "cell_type": "code",
      "source": [
        "from rank_bm25 import BM25Okapi\n",
        "from sklearn.feature_extraction.text import ENGLISH_STOP_WORDS\n",
        "import re\n",
        "\n",
        "# Tokenizador simple: solo palabras en minúscula, sin signos de puntuación ni stopwords\n",
        "def tokenizar(texto):\n",
        "    # Quitar caracteres no alfabéticos y convertir a minúsculas\n",
        "    tokens = re.findall(r'\\b\\w+\\b', texto.lower())\n",
        "    # Quitar stopwords\n",
        "    tokens = [t for t in tokens if t not in ENGLISH_STOP_WORDS]\n",
        "    return tokens\n",
        "\n",
        "# Tokenizamos todos los documentos\n",
        "documentos_tokenizados = [tokenizar(doc) for doc in newsgroupsdocs]\n"
      ],
      "metadata": {
        "id": "V5zDdEKp1WYV"
      },
      "id": "V5zDdEKp1WYV",
      "execution_count": 11,
      "outputs": []
    },
    {
      "cell_type": "code",
      "source": [
        "bm25 = BM25Okapi(documentos_tokenizados)\n"
      ],
      "metadata": {
        "id": "o1b_Bo-D1Y2I"
      },
      "id": "o1b_Bo-D1Y2I",
      "execution_count": 12,
      "outputs": []
    },
    {
      "cell_type": "code",
      "source": [
        "consulta = [\"chicken\"]\n",
        "consulta_tokenizada = [tokenizar(q) for q in consulta][0]\n",
        "\n",
        "# Calcular scores BM25 para todos los documentos\n",
        "scores_bm25 = bm25.get_scores(consulta_tokenizada)\n"
      ],
      "metadata": {
        "id": "bu03jekH1bHl"
      },
      "id": "bu03jekH1bHl",
      "execution_count": 13,
      "outputs": []
    },
    {
      "cell_type": "code",
      "source": [
        "# Ranking BM25 (descendente)\n",
        "indices_bm25 = scores_bm25.argsort()[::-1]\n",
        "\n",
        "# Ranking TF-IDF (ya lo tienes en indices_ordenados)\n",
        "indices_tfidf = indices_ordenados\n",
        "\n",
        "# Mostrar top 10 resultados para comparación\n",
        "print(\"Top 10 documentos según BM25:\")\n",
        "for i in indices_bm25[:10]:\n",
        "    print(f\"Doc {i} - Score BM25: {scores_bm25[i]:.4f}\")\n",
        "\n",
        "print(\"\\nTop 10 documentos según TF-IDF:\")\n",
        "for i in indices_tfidf[:10]:\n",
        "    print(f\"Doc {i} - Similaridad TF-IDF: {similitudes[i]:.4f}\")\n"
      ],
      "metadata": {
        "colab": {
          "base_uri": "https://localhost:8080/"
        },
        "id": "FA6TdzW41r8K",
        "outputId": "34312184-b440-4d2f-edf7-a8cdcec9ab8b"
      },
      "id": "FA6TdzW41r8K",
      "execution_count": 14,
      "outputs": [
        {
          "output_type": "stream",
          "name": "stdout",
          "text": [
            "Top 10 documentos según BM25:\n",
            "Doc 1315 - Score BM25: 11.0711\n",
            "Doc 15919 - Score BM25: 10.6657\n",
            "Doc 13222 - Score BM25: 10.4116\n",
            "Doc 9048 - Score BM25: 10.0523\n",
            "Doc 16902 - Score BM25: 9.5615\n",
            "Doc 357 - Score BM25: 9.5056\n",
            "Doc 5738 - Score BM25: 8.9691\n",
            "Doc 897 - Score BM25: 8.7480\n",
            "Doc 18061 - Score BM25: 6.3605\n",
            "Doc 3360 - Score BM25: 5.9074\n",
            "\n",
            "Top 10 documentos según TF-IDF:\n",
            "Doc 1315 - Similaridad TF-IDF: 0.2692\n",
            "Doc 13222 - Similaridad TF-IDF: 0.2132\n",
            "Doc 15919 - Similaridad TF-IDF: 0.1935\n",
            "Doc 9048 - Similaridad TF-IDF: 0.1768\n",
            "Doc 357 - Similaridad TF-IDF: 0.1589\n",
            "Doc 16902 - Similaridad TF-IDF: 0.1565\n",
            "Doc 5738 - Similaridad TF-IDF: 0.1504\n",
            "Doc 897 - Similaridad TF-IDF: 0.1487\n",
            "Doc 18061 - Similaridad TF-IDF: 0.0860\n",
            "Doc 11732 - Similaridad TF-IDF: 0.0859\n"
          ]
        }
      ]
    },
    {
      "metadata": {
        "id": "2a0dca2bcfa73c5b",
        "colab": {
          "base_uri": "https://localhost:8080/",
          "height": 424
        },
        "outputId": "6e56f2c1-8497-414a-8fc7-d1197e62dd40"
      },
      "cell_type": "code",
      "outputs": [
        {
          "output_type": "execute_result",
          "data": {
            "text/plain": [
              "                                                document  score\n",
              "18845  After a tip from Gary Crum (crum@fcom.cc.utah....    0.0\n",
              "0      \\n\\nI am sure some bashers of Pens fans are pr...    0.0\n",
              "1      My brother is in the market for a high-perform...    0.0\n",
              "2      \\n\\n\\n\\n\\tFinally you said what you dream abou...    0.0\n",
              "3      \\nThink!\\n\\nIt's the SCSI card doing the DMA t...    0.0\n",
              "...                                                  ...    ...\n",
              "18     \\nThe Supreme Court seems to disagree with you...    0.0\n",
              "17     .........\\nI, some years ago, almost became a ...    0.0\n",
              "16     Many thanks to those who replied to my appeal ...    0.0\n",
              "15     In the following report: _Turkey Eyes Regional...    0.0\n",
              "14     \\n\\n\\tThere is no notion of heliocentric, or e...    0.0\n",
              "\n",
              "[18846 rows x 2 columns]"
            ],
            "text/html": [
              "\n",
              "  <div id=\"df-7ba63829-c044-4317-9436-4ea5d4de6f9f\" class=\"colab-df-container\">\n",
              "    <div>\n",
              "<style scoped>\n",
              "    .dataframe tbody tr th:only-of-type {\n",
              "        vertical-align: middle;\n",
              "    }\n",
              "\n",
              "    .dataframe tbody tr th {\n",
              "        vertical-align: top;\n",
              "    }\n",
              "\n",
              "    .dataframe thead th {\n",
              "        text-align: right;\n",
              "    }\n",
              "</style>\n",
              "<table border=\"1\" class=\"dataframe\">\n",
              "  <thead>\n",
              "    <tr style=\"text-align: right;\">\n",
              "      <th></th>\n",
              "      <th>document</th>\n",
              "      <th>score</th>\n",
              "    </tr>\n",
              "  </thead>\n",
              "  <tbody>\n",
              "    <tr>\n",
              "      <th>18845</th>\n",
              "      <td>After a tip from Gary Crum (crum@fcom.cc.utah....</td>\n",
              "      <td>0.0</td>\n",
              "    </tr>\n",
              "    <tr>\n",
              "      <th>0</th>\n",
              "      <td>\\n\\nI am sure some bashers of Pens fans are pr...</td>\n",
              "      <td>0.0</td>\n",
              "    </tr>\n",
              "    <tr>\n",
              "      <th>1</th>\n",
              "      <td>My brother is in the market for a high-perform...</td>\n",
              "      <td>0.0</td>\n",
              "    </tr>\n",
              "    <tr>\n",
              "      <th>2</th>\n",
              "      <td>\\n\\n\\n\\n\\tFinally you said what you dream abou...</td>\n",
              "      <td>0.0</td>\n",
              "    </tr>\n",
              "    <tr>\n",
              "      <th>3</th>\n",
              "      <td>\\nThink!\\n\\nIt's the SCSI card doing the DMA t...</td>\n",
              "      <td>0.0</td>\n",
              "    </tr>\n",
              "    <tr>\n",
              "      <th>...</th>\n",
              "      <td>...</td>\n",
              "      <td>...</td>\n",
              "    </tr>\n",
              "    <tr>\n",
              "      <th>18</th>\n",
              "      <td>\\nThe Supreme Court seems to disagree with you...</td>\n",
              "      <td>0.0</td>\n",
              "    </tr>\n",
              "    <tr>\n",
              "      <th>17</th>\n",
              "      <td>.........\\nI, some years ago, almost became a ...</td>\n",
              "      <td>0.0</td>\n",
              "    </tr>\n",
              "    <tr>\n",
              "      <th>16</th>\n",
              "      <td>Many thanks to those who replied to my appeal ...</td>\n",
              "      <td>0.0</td>\n",
              "    </tr>\n",
              "    <tr>\n",
              "      <th>15</th>\n",
              "      <td>In the following report: _Turkey Eyes Regional...</td>\n",
              "      <td>0.0</td>\n",
              "    </tr>\n",
              "    <tr>\n",
              "      <th>14</th>\n",
              "      <td>\\n\\n\\tThere is no notion of heliocentric, or e...</td>\n",
              "      <td>0.0</td>\n",
              "    </tr>\n",
              "  </tbody>\n",
              "</table>\n",
              "<p>18846 rows × 2 columns</p>\n",
              "</div>\n",
              "    <div class=\"colab-df-buttons\">\n",
              "\n",
              "  <div class=\"colab-df-container\">\n",
              "    <button class=\"colab-df-convert\" onclick=\"convertToInteractive('df-7ba63829-c044-4317-9436-4ea5d4de6f9f')\"\n",
              "            title=\"Convert this dataframe to an interactive table.\"\n",
              "            style=\"display:none;\">\n",
              "\n",
              "  <svg xmlns=\"http://www.w3.org/2000/svg\" height=\"24px\" viewBox=\"0 -960 960 960\">\n",
              "    <path d=\"M120-120v-720h720v720H120Zm60-500h600v-160H180v160Zm220 220h160v-160H400v160Zm0 220h160v-160H400v160ZM180-400h160v-160H180v160Zm440 0h160v-160H620v160ZM180-180h160v-160H180v160Zm440 0h160v-160H620v160Z\"/>\n",
              "  </svg>\n",
              "    </button>\n",
              "\n",
              "  <style>\n",
              "    .colab-df-container {\n",
              "      display:flex;\n",
              "      gap: 12px;\n",
              "    }\n",
              "\n",
              "    .colab-df-convert {\n",
              "      background-color: #E8F0FE;\n",
              "      border: none;\n",
              "      border-radius: 50%;\n",
              "      cursor: pointer;\n",
              "      display: none;\n",
              "      fill: #1967D2;\n",
              "      height: 32px;\n",
              "      padding: 0 0 0 0;\n",
              "      width: 32px;\n",
              "    }\n",
              "\n",
              "    .colab-df-convert:hover {\n",
              "      background-color: #E2EBFA;\n",
              "      box-shadow: 0px 1px 2px rgba(60, 64, 67, 0.3), 0px 1px 3px 1px rgba(60, 64, 67, 0.15);\n",
              "      fill: #174EA6;\n",
              "    }\n",
              "\n",
              "    .colab-df-buttons div {\n",
              "      margin-bottom: 4px;\n",
              "    }\n",
              "\n",
              "    [theme=dark] .colab-df-convert {\n",
              "      background-color: #3B4455;\n",
              "      fill: #D2E3FC;\n",
              "    }\n",
              "\n",
              "    [theme=dark] .colab-df-convert:hover {\n",
              "      background-color: #434B5C;\n",
              "      box-shadow: 0px 1px 3px 1px rgba(0, 0, 0, 0.15);\n",
              "      filter: drop-shadow(0px 1px 2px rgba(0, 0, 0, 0.3));\n",
              "      fill: #FFFFFF;\n",
              "    }\n",
              "  </style>\n",
              "\n",
              "    <script>\n",
              "      const buttonEl =\n",
              "        document.querySelector('#df-7ba63829-c044-4317-9436-4ea5d4de6f9f button.colab-df-convert');\n",
              "      buttonEl.style.display =\n",
              "        google.colab.kernel.accessAllowed ? 'block' : 'none';\n",
              "\n",
              "      async function convertToInteractive(key) {\n",
              "        const element = document.querySelector('#df-7ba63829-c044-4317-9436-4ea5d4de6f9f');\n",
              "        const dataTable =\n",
              "          await google.colab.kernel.invokeFunction('convertToInteractive',\n",
              "                                                    [key], {});\n",
              "        if (!dataTable) return;\n",
              "\n",
              "        const docLinkHtml = 'Like what you see? Visit the ' +\n",
              "          '<a target=\"_blank\" href=https://colab.research.google.com/notebooks/data_table.ipynb>data table notebook</a>'\n",
              "          + ' to learn more about interactive tables.';\n",
              "        element.innerHTML = '';\n",
              "        dataTable['output_type'] = 'display_data';\n",
              "        await google.colab.output.renderOutput(dataTable, element);\n",
              "        const docLink = document.createElement('div');\n",
              "        docLink.innerHTML = docLinkHtml;\n",
              "        element.appendChild(docLink);\n",
              "      }\n",
              "    </script>\n",
              "  </div>\n",
              "\n",
              "\n",
              "    <div id=\"df-0520debc-e6d4-4c1f-ac56-52bd269af561\">\n",
              "      <button class=\"colab-df-quickchart\" onclick=\"quickchart('df-0520debc-e6d4-4c1f-ac56-52bd269af561')\"\n",
              "                title=\"Suggest charts\"\n",
              "                style=\"display:none;\">\n",
              "\n",
              "<svg xmlns=\"http://www.w3.org/2000/svg\" height=\"24px\"viewBox=\"0 0 24 24\"\n",
              "     width=\"24px\">\n",
              "    <g>\n",
              "        <path d=\"M19 3H5c-1.1 0-2 .9-2 2v14c0 1.1.9 2 2 2h14c1.1 0 2-.9 2-2V5c0-1.1-.9-2-2-2zM9 17H7v-7h2v7zm4 0h-2V7h2v10zm4 0h-2v-4h2v4z\"/>\n",
              "    </g>\n",
              "</svg>\n",
              "      </button>\n",
              "\n",
              "<style>\n",
              "  .colab-df-quickchart {\n",
              "      --bg-color: #E8F0FE;\n",
              "      --fill-color: #1967D2;\n",
              "      --hover-bg-color: #E2EBFA;\n",
              "      --hover-fill-color: #174EA6;\n",
              "      --disabled-fill-color: #AAA;\n",
              "      --disabled-bg-color: #DDD;\n",
              "  }\n",
              "\n",
              "  [theme=dark] .colab-df-quickchart {\n",
              "      --bg-color: #3B4455;\n",
              "      --fill-color: #D2E3FC;\n",
              "      --hover-bg-color: #434B5C;\n",
              "      --hover-fill-color: #FFFFFF;\n",
              "      --disabled-bg-color: #3B4455;\n",
              "      --disabled-fill-color: #666;\n",
              "  }\n",
              "\n",
              "  .colab-df-quickchart {\n",
              "    background-color: var(--bg-color);\n",
              "    border: none;\n",
              "    border-radius: 50%;\n",
              "    cursor: pointer;\n",
              "    display: none;\n",
              "    fill: var(--fill-color);\n",
              "    height: 32px;\n",
              "    padding: 0;\n",
              "    width: 32px;\n",
              "  }\n",
              "\n",
              "  .colab-df-quickchart:hover {\n",
              "    background-color: var(--hover-bg-color);\n",
              "    box-shadow: 0 1px 2px rgba(60, 64, 67, 0.3), 0 1px 3px 1px rgba(60, 64, 67, 0.15);\n",
              "    fill: var(--button-hover-fill-color);\n",
              "  }\n",
              "\n",
              "  .colab-df-quickchart-complete:disabled,\n",
              "  .colab-df-quickchart-complete:disabled:hover {\n",
              "    background-color: var(--disabled-bg-color);\n",
              "    fill: var(--disabled-fill-color);\n",
              "    box-shadow: none;\n",
              "  }\n",
              "\n",
              "  .colab-df-spinner {\n",
              "    border: 2px solid var(--fill-color);\n",
              "    border-color: transparent;\n",
              "    border-bottom-color: var(--fill-color);\n",
              "    animation:\n",
              "      spin 1s steps(1) infinite;\n",
              "  }\n",
              "\n",
              "  @keyframes spin {\n",
              "    0% {\n",
              "      border-color: transparent;\n",
              "      border-bottom-color: var(--fill-color);\n",
              "      border-left-color: var(--fill-color);\n",
              "    }\n",
              "    20% {\n",
              "      border-color: transparent;\n",
              "      border-left-color: var(--fill-color);\n",
              "      border-top-color: var(--fill-color);\n",
              "    }\n",
              "    30% {\n",
              "      border-color: transparent;\n",
              "      border-left-color: var(--fill-color);\n",
              "      border-top-color: var(--fill-color);\n",
              "      border-right-color: var(--fill-color);\n",
              "    }\n",
              "    40% {\n",
              "      border-color: transparent;\n",
              "      border-right-color: var(--fill-color);\n",
              "      border-top-color: var(--fill-color);\n",
              "    }\n",
              "    60% {\n",
              "      border-color: transparent;\n",
              "      border-right-color: var(--fill-color);\n",
              "    }\n",
              "    80% {\n",
              "      border-color: transparent;\n",
              "      border-right-color: var(--fill-color);\n",
              "      border-bottom-color: var(--fill-color);\n",
              "    }\n",
              "    90% {\n",
              "      border-color: transparent;\n",
              "      border-bottom-color: var(--fill-color);\n",
              "    }\n",
              "  }\n",
              "</style>\n",
              "\n",
              "      <script>\n",
              "        async function quickchart(key) {\n",
              "          const quickchartButtonEl =\n",
              "            document.querySelector('#' + key + ' button');\n",
              "          quickchartButtonEl.disabled = true;  // To prevent multiple clicks.\n",
              "          quickchartButtonEl.classList.add('colab-df-spinner');\n",
              "          try {\n",
              "            const charts = await google.colab.kernel.invokeFunction(\n",
              "                'suggestCharts', [key], {});\n",
              "          } catch (error) {\n",
              "            console.error('Error during call to suggestCharts:', error);\n",
              "          }\n",
              "          quickchartButtonEl.classList.remove('colab-df-spinner');\n",
              "          quickchartButtonEl.classList.add('colab-df-quickchart-complete');\n",
              "        }\n",
              "        (() => {\n",
              "          let quickchartButtonEl =\n",
              "            document.querySelector('#df-0520debc-e6d4-4c1f-ac56-52bd269af561 button');\n",
              "          quickchartButtonEl.style.display =\n",
              "            google.colab.kernel.accessAllowed ? 'block' : 'none';\n",
              "        })();\n",
              "      </script>\n",
              "    </div>\n",
              "\n",
              "    </div>\n",
              "  </div>\n"
            ],
            "application/vnd.google.colaboratory.intrinsic+json": {
              "type": "dataframe",
              "summary": "{\n  \"name\": \"df\",\n  \"rows\": 18846,\n  \"fields\": [\n    {\n      \"column\": \"document\",\n      \"properties\": {\n        \"dtype\": \"string\",\n        \"num_unique_values\": 18287,\n        \"samples\": [\n          \"Has an X version of whois been written out there?  If so, where can I ftp it\\nfrom?  Thanks.\\n\",\n          \"Hi!\\n\\nI am looking for ftp sites (where there are freewares or sharewares)\\nfor Mac. It will help a lot if there are driver source codes in those \\nftp sites. Any information is appreciated. \\n\\nThanks in advance.\",\n          \"5.25\\\" Internal Low density disk drive.\\n\\nMonochrome monitor\\n\\n8088 motherboard, built in parallel and serial ports, built in mono and\\ncolor output, 7Mhz.\\n\\nLibertarian, atheist, semi-anarchal Techno-Rat.\"\n        ],\n        \"semantic_type\": \"\",\n        \"description\": \"\"\n      }\n    },\n    {\n      \"column\": \"score\",\n      \"properties\": {\n        \"dtype\": \"number\",\n        \"std\": 0.0,\n        \"min\": 0.0,\n        \"max\": 0.0,\n        \"num_unique_values\": 1,\n        \"samples\": [\n          0.0\n        ],\n        \"semantic_type\": \"\",\n        \"description\": \"\"\n      }\n    }\n  ]\n}"
            }
          },
          "metadata": {},
          "execution_count": 15
        }
      ],
      "execution_count": 15,
      "source": [
        "from rank_bm25 import BM25Okapi\n",
        "bm25_doc=BM25Okapi(newsgroupsdocs)\n",
        "\n",
        "scores=bm25_doc.get_scores(consulta)\n",
        "scores\n",
        "df=pd.DataFrame({\"document\": newsgroupsdocs, \"score\": scores})\n",
        "df.sort_values(by=\"score\", ascending=False)"
      ],
      "id": "2a0dca2bcfa73c5b"
    },
    {
      "metadata": {
        "id": "2c71b85e77b4b181"
      },
      "cell_type": "markdown",
      "source": [
        "## Parte 4: Comparación visual entre TF-IDF y BM25\n",
        "\n",
        "### Actividad\n",
        "\n",
        "1. Utiliza un gráfico de barras para visualizar los scores obtenidos por cada documento según TF-IDF y BM25.\n",
        "2. Compara los rankings visualmente.\n",
        "3. Identifica: ¿Qué documentos obtienen scores más altos en un modelo que en otro?\n",
        "4. Sugiere: ¿A qué se podría deber esta diferencia?"
      ],
      "id": "2c71b85e77b4b181"
    },
    {
      "metadata": {
        "id": "16ad3d9d16c04d35"
      },
      "cell_type": "code",
      "outputs": [],
      "execution_count": 16,
      "source": [
        "import matplotlib.pyplot as plt\n",
        "top_n = 20\n",
        "# Obtener índices top para ambos métodos\n",
        "top_indices_tfidf = indices_ordenados[:top_n]\n",
        "top_indices_bm25 = indices_bm25[:top_n]\n",
        "# Unir índices para comparar (únicos)\n",
        "indices_union = list(set(top_indices_tfidf) | set(top_indices_bm25))\n",
        "# Crear DataFrame con scores de ambos métodos para esos documentos\n",
        "comparacion_df = pd.DataFrame({\n",
        "    \"Documento\": indices_union,\n",
        "    \"Score_TFIDF\": [similitudes[i] for i in indices_union],\n",
        "    \"Score_BM25\": [scores_bm25[i] for i in indices_union]\n",
        "})\n",
        "\n",
        "# Ordenar por Score TF-IDF para mejor visualización\n",
        "comparacion_df = comparacion_df.sort_values(by=\"Score_TFIDF\", ascending=False).reset_index(drop=True)\n"
      ],
      "id": "16ad3d9d16c04d35"
    },
    {
      "cell_type": "code",
      "source": [
        "plt.figure(figsize=(14, 7))\n",
        "\n",
        "bar_width = 0.4\n",
        "indices = range(len(comparacion_df))\n",
        "\n",
        "plt.bar(indices, comparacion_df[\"Score_TFIDF\"], width=bar_width, label=\"TF-IDF\", alpha=0.7)\n",
        "plt.bar([i + bar_width for i in indices], comparacion_df[\"Score_BM25\"], width=bar_width, label=\"BM25\", alpha=0.7)\n",
        "\n",
        "plt.xlabel(\"Documentos (índices)\")\n",
        "plt.ylabel(\"Score\")\n",
        "plt.title(\"Comparación de Scores TF-IDF vs BM25 para Documentos\")\n",
        "plt.xticks([i + bar_width/2 for i in indices], comparacion_df[\"Documento\"], rotation=90)\n",
        "plt.legend()\n",
        "plt.tight_layout()\n",
        "plt.show()\n"
      ],
      "metadata": {
        "colab": {
          "base_uri": "https://localhost:8080/",
          "height": 634
        },
        "id": "5Hug0TpSs7kH",
        "outputId": "df2ca9a2-78ce-4835-d296-617da0184b45"
      },
      "id": "5Hug0TpSs7kH",
      "execution_count": 17,
      "outputs": [
        {
          "output_type": "display_data",
          "data": {
            "text/plain": [
              "<Figure size 1400x700 with 1 Axes>"
            ],
            "image/png": "[encoded data removed]"
          },
          "metadata": {}
        }
      ]
    },
    {
      "cell_type": "markdown",
      "source": [
        "**¿Qué documentos obtienen scores más altos en un modelo que en otro?**"
      ],
      "metadata": {
        "id": "TK-NrtpdtSjm"
      },
      "id": "TK-NrtpdtSjm"
    },
    {
      "cell_type": "markdown",
      "source": [
        "En el grafico de barras se observa que tienen mucha diferencia entre TF-IDF y BM25. Siendo que el score es mas alto en BM25 y mucho mas notorio la diferencia de score entre documentos."
      ],
      "metadata": {
        "id": "ItjUNEAStV_Y"
      },
      "id": "ItjUNEAStV_Y"
    },
    {
      "cell_type": "markdown",
      "source": [
        "**¿A qué se podría deber esta diferencia?**"
      ],
      "metadata": {
        "id": "PkAJqD-Zttvi"
      },
      "id": "PkAJqD-Zttvi"
    },
    {
      "cell_type": "markdown",
      "source": [
        "TF-IDF pondera los términos según su frecuencia en el documento y su rareza en el corpus, por eso puede destacar documentos con términos muy específicos o raros.\n",
        "\n",
        "BM25 considera además la longitud del documento y la saturación de la frecuencia, por lo que puede favorecer documentos medianamente largos y con buena cobertura de la consulta sin exagerar la frecuencia."
      ],
      "metadata": {
        "id": "faVBLn-ttvHd"
      },
      "id": "faVBLn-ttvHd"
    },
    {
      "metadata": {
        "id": "b97d171655ecfb"
      },
      "cell_type": "markdown",
      "source": [
        "## Parte 5: Evaluación con consulta relevante\n",
        "\n",
        "### Actividad\n",
        "\n",
        "1. Elige una consulta y define qué documentos del corpus deberían considerarse relevantes.\n",
        "2. Evalúa Precision@3 o MAP para los rankings generados con TF-IDF y BM25.\n",
        "3. Responde: ¿Cuál modelo da mejores resultados respecto a tu criterio de relevancia?"
      ],
      "id": "b97d171655ecfb"
    },
    {
      "metadata": {
        "id": "6d5de59378900ca"
      },
      "cell_type": "code",
      "outputs": [],
      "execution_count": 21,
      "source": [
        "consulta = [\"chicken\"]\n",
        "relevantes = {1315 ,13222, 5738, 897, 15919}\n"
      ],
      "id": "6d5de59378900ca"
    },
    {
      "cell_type": "code",
      "source": [
        "def precision_at_k(ranking, relevantes, k):\n",
        "    top_k = ranking[:k]\n",
        "    relevantes_en_top_k = [doc for doc in top_k if doc in relevantes]\n",
        "    return len(relevantes_en_top_k) / k\n",
        "\n",
        "def average_precision(ranking, relevantes):\n",
        "    ap = 0.0\n",
        "    relevantes_encontrados = 0\n",
        "    for i, doc in enumerate(ranking, start=1):\n",
        "        if doc in relevantes:\n",
        "            relevantes_encontrados += 1\n",
        "            ap += relevantes_encontrados / i\n",
        "    if relevantes_encontrados == 0:\n",
        "        return 0.0\n",
        "    return ap / relevantes_encontrados\n",
        "\n",
        "def mean_average_precision(rankings, relevantes):\n",
        "    return average_precision(rankings, relevantes)\n"
      ],
      "metadata": {
        "id": "R3ZQegcmvCPf"
      },
      "id": "R3ZQegcmvCPf",
      "execution_count": 22,
      "outputs": []
    },
    {
      "cell_type": "code",
      "source": [
        "k = 3\n",
        "\n",
        "# Rankings (listas de índices ordenados por relevancia)\n",
        "ranking_tfidf = indices_ordenados\n",
        "ranking_bm25 = indices_bm25\n",
        "\n",
        "prec_tfidf = precision_at_k(ranking_tfidf, relevantes, k)\n",
        "prec_bm25 = precision_at_k(ranking_bm25, relevantes, k)\n",
        "\n",
        "map_tfidf = average_precision(ranking_tfidf, relevantes)\n",
        "map_bm25 = average_precision(ranking_bm25, relevantes)\n",
        "\n",
        "print(f\"Precision@{k} TF-IDF: {prec_tfidf:.3f}\")\n",
        "print(f\"Precision@{k} BM25: {prec_bm25:.3f}\")\n",
        "print(f\"MAP TF-IDF: {map_tfidf:.3f}\")\n",
        "print(f\"MAP BM25: {map_bm25:.3f}\")\n"
      ],
      "metadata": {
        "colab": {
          "base_uri": "https://localhost:8080/"
        },
        "id": "MPs-ocgZvGN6",
        "outputId": "1200eb9d-0a36-4352-a417-90739ae1ae71"
      },
      "id": "MPs-ocgZvGN6",
      "execution_count": 23,
      "outputs": [
        {
          "output_type": "stream",
          "name": "stdout",
          "text": [
            "Precision@3 TF-IDF: 1.000\n",
            "Precision@3 BM25: 1.000\n",
            "MAP TF-IDF: 0.839\n",
            "MAP BM25: 0.839\n"
          ]
        }
      ]
    },
    {
      "cell_type": "markdown",
      "source": [
        "**¿Cuál modelo da mejores resultados respecto a tu criterio de relevancia?**"
      ],
      "metadata": {
        "id": "krPwLhJdwJ7t"
      },
      "id": "krPwLhJdwJ7t"
    },
    {
      "cell_type": "markdown",
      "source": [
        "Para este caso donde elegi unos pocos docs considerados relevantes el resultado me indico que ambos modelos dan resultados equivalentes para la consulta y conjunto de documentos relevantes."
      ],
      "metadata": {
        "id": "VRjapKeKwLM6"
      },
      "id": "VRjapKeKwLM6"
    }
  ],
  "metadata": {
    "kernelspec": {
      "display_name": "Python 3",
      "language": "python",
      "name": "python3"
    },
    "language_info": {
      "codemirror_mode": {
        "name": "ipython",
        "version": 2
      },
      "file_extension": ".py",
      "mimetype": "text/x-python",
      "name": "python",
      "nbconvert_exporter": "python",
      "pygments_lexer": "ipython2",
      "version": "2.7.6"
    },
    "colab": {
      "provenance": []
    }
  },
  "nbformat": 4,
  "nbformat_minor": 5
}